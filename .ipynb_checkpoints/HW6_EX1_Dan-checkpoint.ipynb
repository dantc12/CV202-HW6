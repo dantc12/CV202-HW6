{
 "cells": [
  {
   "cell_type": "markdown",
   "metadata": {},
   "source": [
    "# Imports"
   ]
  },
  {
   "cell_type": "code",
   "execution_count": 1,
   "metadata": {},
   "outputs": [],
   "source": [
    "import numpy as np\n",
    "from scipy.ndimage.interpolation import shift\n",
    "import time\n",
    "from IPython.display import clear_output\n",
    "from copy import copy"
   ]
  },
  {
   "cell_type": "markdown",
   "metadata": {},
   "source": [
    "# Gibbs Sampling Functions"
   ]
  },
  {
   "cell_type": "code",
   "execution_count": 2,
   "metadata": {},
   "outputs": [],
   "source": [
    "def calc_neigbhors_sum(mat, i, j):\n",
    "    return mat[i - 1][j] + mat[i][j - 1] + mat[i][j + 1] + mat[i + 1][j]\n",
    "\n",
    "# returns prob for (x_s=+1, x_s=-1)\n",
    "def calc_prob(mat, Temp, i, j):\n",
    "    tmp_p_x_plus1 = np.exp((1/Temp) * calc_neigbhors_sum(mat, i, j) * 1)\n",
    "    tmp_p_x_minus1 = np.exp((1/Temp) * calc_neigbhors_sum(mat, i, j) * (-1))\n",
    "    p_x_plus1 = tmp_p_x_plus1 / (tmp_p_x_plus1 + tmp_p_x_minus1)\n",
    "    p_x_minus1 = tmp_p_x_minus1 / (tmp_p_x_plus1 + tmp_p_x_minus1)\n",
    "    return (p_x_plus1, p_x_minus1)\n",
    "\n",
    "def sample_site(mat, Temp, i, j):\n",
    "    p_x = calc_prob(mat, Temp, i, j)\n",
    "    return np.random.choice([1, -1], 1, p=[p_x[0], p_x[1]])\n",
    "\n",
    "def MRF_iteration(padded_mat, Temp, lat_size=8):\n",
    "    prev_padded_mat = copy(padded_mat)\n",
    "    for i in range(lat_size):\n",
    "        for j in range(lat_size):\n",
    "            padded_mat[i+1][j+1] = sample_site(prev_padded_mat, Temp, i+1, j+1) # Assuming padded\n",
    "    return padded_mat\n",
    "\n",
    "def Gibbs_sampler(Temp, iterations, lat_size=8):\n",
    "    s = time.time()\n",
    "    initial_mat = np.random.randint(low=0,high=2,size=(lat_size,lat_size))*2 - 1\n",
    "    padded_mat = np.pad(initial_mat, ((1,1),(1,1)), 'constant')\n",
    "    for iteration in range(iterations):\n",
    "        padded_mat = MRF_iteration(padded_mat, Temp, lat_size)\n",
    "    e = time.time()\n",
    "#     print(\"Sampling one sample took \" + str(round(e-s, 2)) + \" seconds.\")\n",
    "    return padded_mat[1:-1, 1:-1]"
   ]
  },
  {
   "cell_type": "markdown",
   "metadata": {},
   "source": [
    "# Ex 1 Method 1: Empirical expectation of Independent Samples"
   ]
  },
  {
   "cell_type": "code",
   "execution_count": 9,
   "metadata": {},
   "outputs": [],
   "source": [
    "def compute_empirical_expectation_iidsamples(num_samples, Temp, iterations=25):\n",
    "    sum12 = 0\n",
    "    sum18 = 0\n",
    "    st = time.time()\n",
    "    for sample_step in range(num_samples):\n",
    "        percent_done = (sample_step * 100) / num_samples\n",
    "        if int(percent_done) == percent_done:\n",
    "            e = time.time()\n",
    "            clear_output(wait=True)\n",
    "            print(\"Done: \" + str(int(percent_done)) + \"%, \" + str(round((e-st)/60.0, 2)) + \" minutes.\")\n",
    "        sample = Gibbs_sampler(Temp, iterations)\n",
    "        sum12 += sample[0][0] * sample[1][1]\n",
    "        sum18 += sample[0][0] * sample[7][7]\n",
    "    ee = time.time()\n",
    "    clear_output(wait=True)\n",
    "    print(\"Sampling \" + str(num_samples) + \" samples took \" + str(round((ee-st)/60.0, 2)) + \" minutes.\")\n",
    "    return sum12 / num_samples, sum18 / num_samples"
   ]
  },
  {
   "cell_type": "code",
   "execution_count": 7,
   "metadata": {},
   "outputs": [],
   "source": [
    "n_samples = 10000"
   ]
  },
  {
   "cell_type": "code",
   "execution_count": 10,
   "metadata": {},
   "outputs": [
    {
     "name": "stdout",
     "output_type": "stream",
     "text": [
      "Sampling 10000 samples took 12.22 minutes.\n",
      "Results: (0.9186, 0.1958)\n"
     ]
    }
   ],
   "source": [
    "Temp = 1.0\n",
    "print(\"Temp = \" + str(Temp) + \":\")\n",
    "print(\"Results: \" + str(compute_empirical_expectation_iidsamples(n_samples, Temp)))"
   ]
  },
  {
   "cell_type": "code",
   "execution_count": 11,
   "metadata": {},
   "outputs": [
    {
     "name": "stdout",
     "output_type": "stream",
     "text": [
      "Sampling 10000 samples took 12.46 minutes.\n",
      "Results: (0.7298, 0.137)\n"
     ]
    }
   ],
   "source": [
    "Temp = 1.5\n",
    "print(\"Temp = \" + str(Temp) + \":\")\n",
    "print(\"Results: \" + str(compute_empirical_expectation_iidsamples(n_samples, Temp)))"
   ]
  },
  {
   "cell_type": "code",
   "execution_count": 12,
   "metadata": {},
   "outputs": [
    {
     "name": "stdout",
     "output_type": "stream",
     "text": [
      "Sampling 10000 samples took 12.45 minutes.\n",
      "Results: (0.5018, 0.0686)\n"
     ]
    }
   ],
   "source": [
    "Temp = 2.0\n",
    "print(\"Temp = \" + str(Temp) + \":\")\n",
    "print(\"Results: \" + str(compute_empirical_expectation_iidsamples(n_samples, Temp)))"
   ]
  },
  {
   "cell_type": "markdown",
   "metadata": {},
   "source": [
    "# Ex 1 Method 2: Ergodicity expectation"
   ]
  },
  {
   "cell_type": "code",
   "execution_count": 20,
   "metadata": {},
   "outputs": [],
   "source": [
    "def compute_empirical_expectation_ergodicity(Temp, iterations, burnin, lat_size=8):\n",
    "    st = time.time()\n",
    "    num_samples = iterations - burnin\n",
    "    sum12 = 0\n",
    "    sum18 = 0\n",
    "    initial_mat = np.random.randint(low=0,high=2,size=(lat_size,lat_size))*2 - 1\n",
    "    padded_mat = np.pad(initial_mat, ((1,1),(1,1)), 'constant')\n",
    "    \n",
    "    for iteration in range(burnin):\n",
    "        padded_mat = MRF_iteration(padded_mat, Temp, lat_size)\n",
    "    e = time.time()\n",
    "    print(\"Done burn-in of \" + str(burnin) + \", \" + str(round(e-st, 2)) + \" seconds.\")\n",
    "    \n",
    "    for sample_step in range(num_samples):\n",
    "        percent_done = (sample_step * 100) / num_samples\n",
    "        if int(percent_done) == percent_done:\n",
    "            e = time.time()\n",
    "            clear_output(wait=True)\n",
    "            print(\"Done: \" + str(int(percent_done)) + \"%, \" + str(round(e-st, 2)) + \" seconds.\")\n",
    "        padded_mat = MRF_iteration(padded_mat, Temp, lat_size)\n",
    "        sample = padded_mat[1:-1, 1:-1]\n",
    "        sum12 += sample[0][0] * sample[1][1]\n",
    "        sum18 += sample[0][0] * sample[7][7]\n",
    "    ee = time.time()\n",
    "    clear_output(wait=True)\n",
    "    print(\"Sampling \" + str(num_samples) + \" samples took \" + str(round(ee-st, 2)) + \" seconds.\")\n",
    "    return round(sum12 / num_samples,2) , round(sum18 / num_samples,2)"
   ]
  },
  {
   "cell_type": "code",
   "execution_count": 14,
   "metadata": {},
   "outputs": [],
   "source": [
    "n_sweeps = 25000\n",
    "burnin = 100"
   ]
  },
  {
   "cell_type": "code",
   "execution_count": 21,
   "metadata": {},
   "outputs": [
    {
     "name": "stdout",
     "output_type": "stream",
     "text": [
      "Sampling 24900 samples took 75.62 seconds.\n",
      "Results: (0.96, 0.91)\n"
     ]
    }
   ],
   "source": [
    "Temp = 1.0\n",
    "print(\"Temp = \" + str(Temp) + \":\")\n",
    "print(\"Results: \" + str(compute_empirical_expectation_ergodicity(Temp, n_sweeps, burnin)))"
   ]
  },
  {
   "cell_type": "code",
   "execution_count": 22,
   "metadata": {},
   "outputs": [
    {
     "name": "stdout",
     "output_type": "stream",
     "text": [
      "Sampling 24900 samples took 74.64 seconds.\n",
      "Results: (0.76, 0.53)\n"
     ]
    }
   ],
   "source": [
    "Temp = 1.5\n",
    "print(\"Temp = \" + str(Temp) + \":\")\n",
    "print(\"Results: \" + str(compute_empirical_expectation_ergodicity(Temp, n_sweeps, burnin)))"
   ]
  },
  {
   "cell_type": "code",
   "execution_count": 23,
   "metadata": {},
   "outputs": [
    {
     "name": "stdout",
     "output_type": "stream",
     "text": [
      "Sampling 24900 samples took 74.06 seconds.\n",
      "Results: (0.51, 0.13)\n"
     ]
    }
   ],
   "source": [
    "Temp = 2.0\n",
    "print(\"Temp = \" + str(Temp) + \":\")\n",
    "print(\"Results: \" + str(compute_empirical_expectation_ergodicity(Temp, n_sweeps, burnin)))"
   ]
  }
 ],
 "metadata": {
  "kernelspec": {
   "display_name": "Python 3",
   "language": "python",
   "name": "python3"
  },
  "language_info": {
   "codemirror_mode": {
    "name": "ipython",
    "version": 3
   },
   "file_extension": ".py",
   "mimetype": "text/x-python",
   "name": "python",
   "nbconvert_exporter": "python",
   "pygments_lexer": "ipython3",
   "version": "3.7.6"
  }
 },
 "nbformat": 4,
 "nbformat_minor": 2
}
