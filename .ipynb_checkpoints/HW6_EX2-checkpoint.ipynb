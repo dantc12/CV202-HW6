{
 "cells": [
  {
   "cell_type": "markdown",
   "metadata": {},
   "source": [
    "# Imports"
   ]
  },
  {
   "cell_type": "code",
   "execution_count": 1,
   "metadata": {},
   "outputs": [],
   "source": [
    "import numpy as np\n",
    "from scipy.ndimage.interpolation import shift\n",
    "from gibbs_sampling_funcs import Gibbs_sampler, MRF_iteration"
   ]
  },
  {
   "cell_type": "markdown",
   "metadata": {},
   "source": [
    "# Utils Functions"
   ]
  },
  {
   "cell_type": "code",
   "execution_count": 2,
   "metadata": {},
   "outputs": [],
   "source": [
    "def Gaussian_noise(lat_size=100):\n",
    "    return 2*np.random.standard_normal(size=(lat_size,lat_size))"
   ]
  },
  {
   "cell_type": "markdown",
   "metadata": {},
   "source": [
    "# Utils Functions (with noise)"
   ]
  },
  {
   "cell_type": "code",
   "execution_count": 11,
   "metadata": {},
   "outputs": [],
   "source": [
    "def calc_noise(mat, i, j, val, sigma):\n",
    "    return 1/(2 * pow(sigma, 2)) * pow((mat[i][j] - val), 2)\n",
    "\n",
    "# returns prob for +1\n",
    "def calc_prob_with_noise(mat, Temp, i,j, sigma):\n",
    "    x_plus = calc_neigbhors_sum(mat, i, j, 1)\n",
    "    x_minus = calc_neigbhors_sum(mat, i, j, -1)\n",
    "    noise_plus = calc_noise(mat, i, j, 1, sigma)\n",
    "    noise_minus = calc_noise(mat, i, j, -1, sigma)\n",
    "    Z_temp = np.exp((1/Temp) * x_plus - noise_plus) + np.exp((1/Temp) * x_minus - noise_minus)\n",
    "    return np.exp((1/Temp) * x_plus - noise_plus)/Z_temp\n",
    "\n",
    "def sample_site_with_noise(mat, Temp, i, j, sigma):\n",
    "    prob = calc_prob_with_noise(mat, Temp, i,j, sigma)\n",
    "    return np.random.choice([1, -1], 1, p=[prob, 1-prob])\n",
    "\n",
    "def MRF_iteration_with_noise(mat, Temp, sigma, lat_size=8):\n",
    "    for i in range(lat_size):\n",
    "        for j in range(lat_size):\n",
    "            mat[i+1][j+1] = sample_site_with_noise(mat, Temp, i+1, j+1, sigma)\n",
    "    return mat\n",
    "\n",
    "def Gibbs_sampler_with_noise(Temp, iterations, y, sigma=2, lat_size=8):\n",
    "    padded_mat = y\n",
    "    for iteration in range(iterations):\n",
    "        padded_mat = MRF_iteration_with_noise(padded_mat, Temp, sigma)\n",
    "    return padded_mat"
   ]
  },
  {
   "cell_type": "markdown",
   "metadata": {},
   "source": [
    "# Step 1"
   ]
  },
  {
   "cell_type": "code",
   "execution_count": 9,
   "metadata": {},
   "outputs": [],
   "source": [
    "x = Gibbs_sampler(1, 50, lat_size=100)"
   ]
  },
  {
   "cell_type": "markdown",
   "metadata": {},
   "source": [
    "# Step 2"
   ]
  },
  {
   "cell_type": "code",
   "execution_count": 10,
   "metadata": {},
   "outputs": [],
   "source": [
    "eta = Gaussian_noise()\n",
    "padded_eta = np.pad(eta, ((1, 1), (1, 1)), 'constant')\n",
    "y = x + padded_eta"
   ]
  },
  {
   "cell_type": "markdown",
   "metadata": {},
   "source": [
    "# Step 3"
   ]
  },
  {
   "cell_type": "code",
   "execution_count": 13,
   "metadata": {},
   "outputs": [],
   "source": [
    "restored_matrix = Gibbs_sampler_with_noise(1, 50, y, lat_size=100)"
   ]
  }
 ],
 "metadata": {
  "kernelspec": {
   "display_name": "Python 3",
   "language": "python",
   "name": "python3"
  },
  "language_info": {
   "codemirror_mode": {
    "name": "ipython",
    "version": 3
   },
   "file_extension": ".py",
   "mimetype": "text/x-python",
   "name": "python",
   "nbconvert_exporter": "python",
   "pygments_lexer": "ipython3",
   "version": "3.7.6"
  }
 },
 "nbformat": 4,
 "nbformat_minor": 2
}
