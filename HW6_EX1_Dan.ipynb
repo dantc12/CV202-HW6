{
 "cells": [
  {
   "cell_type": "markdown",
   "metadata": {},
   "source": [
    "# Imports\n",
    "Note the import of our Gibbs Sampling functions!"
   ]
  },
  {
   "cell_type": "code",
   "execution_count": 24,
   "metadata": {},
   "outputs": [],
   "source": [
    "import numpy as np\n",
    "import time\n",
    "from IPython.display import clear_output\n",
    "from gibbs_sampling_funcs import MRF_iteration, Gibbs_sampler"
   ]
  },
  {
   "cell_type": "markdown",
   "metadata": {},
   "source": [
    "# Ex 1 Method 1: Empirical expectation of Independent Samples"
   ]
  },
  {
   "cell_type": "code",
   "execution_count": 26,
   "metadata": {},
   "outputs": [],
   "source": [
    "def compute_empirical_expectation_iidsamples(num_samples, Temp, iterations, lat_size):\n",
    "    sum12 = 0\n",
    "    sum18 = 0\n",
    "    st = time.time()\n",
    "    for sample_step in range(num_samples):\n",
    "        percent_done = (sample_step * 100) / num_samples\n",
    "        if int(percent_done) == percent_done:\n",
    "            e = time.time()\n",
    "            clear_output(wait=True)\n",
    "            print(\"Done: \" + str(int(percent_done)) + \"%, \" + str(round((e-st)/60.0, 2)) + \" minutes.\")\n",
    "        sample = Gibbs_sampler(Temp, iterations, lat_size)\n",
    "        sum12 += sample[0][0] * sample[1][1]\n",
    "        sum18 += sample[0][0] * sample[7][7]\n",
    "    ee = time.time()\n",
    "    clear_output(wait=True)\n",
    "    print(\"Sampling \" + str(num_samples) + \" samples took \" + str(round((ee-st)/60.0, 2)) + \" minutes.\")\n",
    "    return sum12 / num_samples, sum18 / num_samples"
   ]
  },
  {
   "cell_type": "code",
   "execution_count": 27,
   "metadata": {},
   "outputs": [],
   "source": [
    "n_samples = 10000\n",
    "iterations = 25\n",
    "lat_size = 8"
   ]
  },
  {
   "cell_type": "code",
   "execution_count": 10,
   "metadata": {},
   "outputs": [
    {
     "name": "stdout",
     "output_type": "stream",
     "text": [
      "Sampling 10000 samples took 12.22 minutes.\n",
      "Results: (0.9186, 0.1958)\n"
     ]
    }
   ],
   "source": [
    "Temp = 1.0\n",
    "print(\"Temp = \" + str(Temp) + \":\")\n",
    "print(\"Results: \" + str(compute_empirical_expectation_iidsamples(n_samples, Temp, iterations, lat_size)))"
   ]
  },
  {
   "cell_type": "code",
   "execution_count": 11,
   "metadata": {},
   "outputs": [
    {
     "name": "stdout",
     "output_type": "stream",
     "text": [
      "Sampling 10000 samples took 12.46 minutes.\n",
      "Results: (0.7298, 0.137)\n"
     ]
    }
   ],
   "source": [
    "Temp = 1.5\n",
    "print(\"Temp = \" + str(Temp) + \":\")\n",
    "print(\"Results: \" + str(compute_empirical_expectation_iidsamples(n_samples, Temp, iterations, lat_size)))"
   ]
  },
  {
   "cell_type": "code",
   "execution_count": 12,
   "metadata": {},
   "outputs": [
    {
     "name": "stdout",
     "output_type": "stream",
     "text": [
      "Sampling 10000 samples took 12.45 minutes.\n",
      "Results: (0.5018, 0.0686)\n"
     ]
    }
   ],
   "source": [
    "Temp = 2.0\n",
    "print(\"Temp = \" + str(Temp) + \":\")\n",
    "print(\"Results: \" + str(compute_empirical_expectation_iidsamples(n_samples, Temp, iterations, lat_size)))"
   ]
  },
  {
   "cell_type": "markdown",
   "metadata": {},
   "source": [
    "# Ex 1 Method 2: Ergodicity expectation"
   ]
  },
  {
   "cell_type": "code",
   "execution_count": 28,
   "metadata": {},
   "outputs": [],
   "source": [
    "def compute_empirical_expectation_ergodicity(Temp, iterations, burnin, lat_size):\n",
    "    st = time.time()\n",
    "    num_samples = iterations - burnin\n",
    "    sum12 = 0\n",
    "    sum18 = 0\n",
    "    initial_mat = np.random.randint(low=0,high=2,size=(lat_size,lat_size))*2 - 1\n",
    "    padded_mat = np.pad(initial_mat, ((1,1),(1,1)), 'constant')\n",
    "    \n",
    "    for iteration in range(burnin):\n",
    "        padded_mat = MRF_iteration(padded_mat, Temp, lat_size)\n",
    "    e = time.time()\n",
    "    print(\"Done burn-in of \" + str(burnin) + \", \" + str(round(e-st, 2)) + \" seconds.\")\n",
    "    \n",
    "    for sample_step in range(num_samples):\n",
    "        percent_done = (sample_step * 100) / num_samples\n",
    "        if int(percent_done) == percent_done:\n",
    "            e = time.time()\n",
    "            clear_output(wait=True)\n",
    "            print(\"Done: \" + str(int(percent_done)) + \"%, \" + str(round(e-st, 2)) + \" seconds.\")\n",
    "        padded_mat = MRF_iteration(padded_mat, Temp, lat_size)\n",
    "        sample = padded_mat[1:-1, 1:-1]\n",
    "        sum12 += sample[0][0] * sample[1][1]\n",
    "        sum18 += sample[0][0] * sample[7][7]\n",
    "    ee = time.time()\n",
    "    clear_output(wait=True)\n",
    "    print(\"Sampling \" + str(num_samples) + \" samples took \" + str(round(ee-st, 2)) + \" seconds.\")\n",
    "    return round(sum12 / num_samples, 3) , round(sum18 / num_samples, 3)"
   ]
  },
  {
   "cell_type": "code",
   "execution_count": 29,
   "metadata": {},
   "outputs": [],
   "source": [
    "n_sweeps = 25000\n",
    "burnin = 100\n",
    "lat_size = 8"
   ]
  },
  {
   "cell_type": "code",
   "execution_count": 30,
   "metadata": {},
   "outputs": [
    {
     "name": "stdout",
     "output_type": "stream",
     "text": [
      "Sampling 24900 samples took 77.47 seconds.\n",
      "Results: (0.949, 0.907)\n"
     ]
    }
   ],
   "source": [
    "Temp = 1.0\n",
    "print(\"Temp = \" + str(Temp) + \":\")\n",
    "print(\"Results: \" + str(compute_empirical_expectation_ergodicity(Temp, n_sweeps, burnin, lat_size)))"
   ]
  },
  {
   "cell_type": "code",
   "execution_count": 31,
   "metadata": {},
   "outputs": [
    {
     "name": "stdout",
     "output_type": "stream",
     "text": [
      "Sampling 24900 samples took 74.42 seconds.\n",
      "Results: (0.763, 0.541)\n"
     ]
    }
   ],
   "source": [
    "Temp = 1.5\n",
    "print(\"Temp = \" + str(Temp) + \":\")\n",
    "print(\"Results: \" + str(compute_empirical_expectation_ergodicity(Temp, n_sweeps, burnin, lat_size)))"
   ]
  },
  {
   "cell_type": "code",
   "execution_count": 32,
   "metadata": {},
   "outputs": [
    {
     "name": "stdout",
     "output_type": "stream",
     "text": [
      "Sampling 24900 samples took 74.39 seconds.\n",
      "Results: (0.515, 0.126)\n"
     ]
    }
   ],
   "source": [
    "Temp = 2.0\n",
    "print(\"Temp = \" + str(Temp) + \":\")\n",
    "print(\"Results: \" + str(compute_empirical_expectation_ergodicity(Temp, n_sweeps, burnin, lat_size)))"
   ]
  }
 ],
 "metadata": {
  "kernelspec": {
   "display_name": "Python 3",
   "language": "python",
   "name": "python3"
  },
  "language_info": {
   "codemirror_mode": {
    "name": "ipython",
    "version": 3
   },
   "file_extension": ".py",
   "mimetype": "text/x-python",
   "name": "python",
   "nbconvert_exporter": "python",
   "pygments_lexer": "ipython3",
   "version": "3.7.6"
  }
 },
 "nbformat": 4,
 "nbformat_minor": 2
}
