{
 "cells": [
  {
   "cell_type": "markdown",
   "metadata": {},
   "source": [
    "# Imports"
   ]
  },
  {
   "cell_type": "code",
   "execution_count": 1,
   "metadata": {},
   "outputs": [],
   "source": [
    "import numpy as np\n",
    "from scipy.ndimage.interpolation import shift"
   ]
  },
  {
   "cell_type": "markdown",
   "metadata": {},
   "source": [
    "# Utils Functions"
   ]
  },
  {
   "cell_type": "code",
   "execution_count": 2,
   "metadata": {},
   "outputs": [],
   "source": [
    "def calc_neigbhors_sum(mat, i, j, val):\n",
    "    return mat[i - 1][j - 1]*val + mat[i - 1][j]*val + mat[i - 1][j + 1]*val \\\n",
    "            + mat[i][j - 1]*val + mat[i][j + 1]*val \\\n",
    "            + mat[i + 1][j - 1]*val + mat[i + 1][j]*val + mat[i + 1][j + 1]*val\n",
    "\n",
    "# returns prob for +1\n",
    "def calc_prob(mat, Temp, i,j):\n",
    "    x_plus = calc_neigbhors_sum(mat, i, j, 1)\n",
    "    x_minus = calc_neigbhors_sum(mat, i, j, -1)\n",
    "    Z_temp = np.exp((1/Temp) * x_plus) + np.exp((1/Temp) * x_minus)\n",
    "    return np.exp((1/Temp) * x_plus)/Z_temp\n",
    "\n",
    "def sample_site(mat, Temp, i, j):\n",
    "    prob = calc_prob(mat, Temp, i,j)\n",
    "    return np.random.choice([1, -1], 1, p=[prob, 1-prob])\n",
    "\n",
    "def MRF_iteration(mat, Temp, lat_size=8):\n",
    "    for i in range(lat_size):\n",
    "        for j in range(lat_size):\n",
    "            mat[i+1][j+1] = sample_site(mat, Temp, i+1, j+1)\n",
    "    return mat\n",
    "\n",
    "def Gibbs_sampler(Temp, iterations, lat_size=8):\n",
    "    initial_mat = np.random.randint(low=0,high=2,size=(lat_size,lat_size))*2 - 1\n",
    "    padded_mat = np.pad(initial_mat, ((1,1),(1,1)), 'constant')\n",
    "    for iteration in range(iterations):\n",
    "        padded_mat = MRF_iteration(padded_mat, Temp)\n",
    "    return padded_mat\n",
    "\n",
    "def compute_empirical_expectation(num_samples, Temp, iterations=25):\n",
    "    normalizing_factor = num_samples\n",
    "    sum12 = 0\n",
    "    sum18 = 0\n",
    "    for sample_step in range(num_samples):\n",
    "        if sample_step % 100 is 99:\n",
    "            print(\"Step: \" + str(sample_step))\n",
    "        sample = Gibbs_sampler(Temp, iterations)\n",
    "        sum12 += sample[1][1] * sample[2][2]\n",
    "        sum18 += sample[1][1] * sample[8][8]\n",
    "    return sum12 / normalizing_factor, sum18 / normalizing_factor\n"
   ]
  },
  {
   "cell_type": "markdown",
   "metadata": {},
   "source": [
    "# Ex 1 Method 1: Empirical expectation of Independent Samples"
   ]
  },
  {
   "cell_type": "code",
   "execution_count": 6,
   "metadata": {},
   "outputs": [
    {
     "name": "stdout",
     "output_type": "stream",
     "text": [
      "Method 1: Independent Samples\n",
      "Step: 99\n",
      "Step: 199\n",
      "Step: 299\n",
      "Step: 399\n",
      "Step: 499\n",
      "Step: 599\n",
      "Step: 699\n",
      "Step: 799\n",
      "Step: 899\n",
      "Step: 999\n",
      "(0.89, 0.658)\n"
     ]
    }
   ],
   "source": [
    "print(\"Method 1: Independent Samples\")\n",
    "print(compute_empirical_expectation(1000, 2))"
   ]
  },
  {
   "cell_type": "markdown",
   "metadata": {},
   "source": [
    "# Ergodicity Sampling function"
   ]
  },
  {
   "cell_type": "code",
   "execution_count": 11,
   "metadata": {},
   "outputs": [],
   "source": [
    "def Gibbs_sampler_ergodicity(Temp, sweeps=25000, lat_size=8, ignore_first_size=100):\n",
    "    initial_mat = np.random.randint(low=0,high=2,size=(lat_size,lat_size))*2 - 1\n",
    "    padded_mat = np.pad(initial_mat, ((1,1),(1,1)), 'constant')\n",
    "    normalizing_factor = sweeps - ignore_first_size\n",
    "    sum12 = 0\n",
    "    sum18 = 0\n",
    "    for sweep in range(sweeps):\n",
    "        #print('Sweep Number: ' + str(sweep))\n",
    "        padded_mat = MRF_iteration(padded_mat, Temp)\n",
    "        if sweep >= ignore_first_size:\n",
    "            sum12 += padded_mat[1][1] * padded_mat[2][2]\n",
    "            sum18 += padded_mat[1][1] * padded_mat[8][8]\n",
    "    return sum12 / normalizing_factor, sum18 / normalizing_factor"
   ]
  },
  {
   "cell_type": "markdown",
   "metadata": {},
   "source": [
    "# Ex 1 Method 2: Ergodicity expectation\n"
   ]
  },
  {
   "cell_type": "code",
   "execution_count": 12,
   "metadata": {},
   "outputs": [
    {
     "name": "stdout",
     "output_type": "stream",
     "text": [
      "Method 2: Ergodicity\n",
      "(0.9955102040816326, 0.9779591836734693)\n"
     ]
    }
   ],
   "source": [
    "print(\"Method 2: Ergodicity\")\n",
    "print(Gibbs_sampler_ergodicity(1, sweeps=5000))"
   ]
  }
 ],
 "metadata": {
  "kernelspec": {
   "display_name": "Python 3",
   "language": "python",
   "name": "python3"
  },
  "language_info": {
   "codemirror_mode": {
    "name": "ipython",
    "version": 3
   },
   "file_extension": ".py",
   "mimetype": "text/x-python",
   "name": "python",
   "nbconvert_exporter": "python",
   "pygments_lexer": "ipython3",
   "version": "3.7.6"
  }
 },
 "nbformat": 4,
 "nbformat_minor": 2
}
